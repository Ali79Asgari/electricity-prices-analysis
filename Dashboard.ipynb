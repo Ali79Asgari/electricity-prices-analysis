{
 "cells": [
  {
   "cell_type": "code",
   "execution_count": 9,
   "id": "8876dfb3-e602-4160-b975-bb6d92a4ee0a",
   "metadata": {},
   "outputs": [
    {
     "name": "stdout",
     "output_type": "stream",
     "text": [
      "Requirement already satisfied: dash in g:\\anaconda\\lib\\site-packages (3.0.0)\n",
      "Requirement already satisfied: plotly in g:\\anaconda\\lib\\site-packages (5.24.1)\n",
      "Requirement already satisfied: Flask<3.1,>=1.0.4 in g:\\anaconda\\lib\\site-packages (from dash) (3.0.3)\n",
      "Requirement already satisfied: Werkzeug<3.1 in g:\\anaconda\\lib\\site-packages (from dash) (3.0.3)\n",
      "Requirement already satisfied: importlib-metadata in g:\\anaconda\\lib\\site-packages (from dash) (7.0.1)\n",
      "Requirement already satisfied: typing-extensions>=4.1.1 in g:\\anaconda\\lib\\site-packages (from dash) (4.11.0)\n",
      "Requirement already satisfied: requests in g:\\anaconda\\lib\\site-packages (from dash) (2.32.3)\n",
      "Requirement already satisfied: retrying in g:\\anaconda\\lib\\site-packages (from dash) (1.3.4)\n",
      "Requirement already satisfied: nest-asyncio in g:\\anaconda\\lib\\site-packages (from dash) (1.6.0)\n",
      "Requirement already satisfied: setuptools in g:\\anaconda\\lib\\site-packages (from dash) (75.1.0)\n",
      "Requirement already satisfied: stringcase>=1.2.0 in g:\\anaconda\\lib\\site-packages (from dash) (1.2.0)\n",
      "Requirement already satisfied: tenacity>=6.2.0 in g:\\anaconda\\lib\\site-packages (from plotly) (8.2.3)\n",
      "Requirement already satisfied: packaging in g:\\anaconda\\lib\\site-packages (from plotly) (24.1)\n",
      "Requirement already satisfied: Jinja2>=3.1.2 in g:\\anaconda\\lib\\site-packages (from Flask<3.1,>=1.0.4->dash) (3.1.4)\n",
      "Requirement already satisfied: itsdangerous>=2.1.2 in g:\\anaconda\\lib\\site-packages (from Flask<3.1,>=1.0.4->dash) (2.2.0)\n",
      "Requirement already satisfied: click>=8.1.3 in g:\\anaconda\\lib\\site-packages (from Flask<3.1,>=1.0.4->dash) (8.1.7)\n",
      "Requirement already satisfied: blinker>=1.6.2 in g:\\anaconda\\lib\\site-packages (from Flask<3.1,>=1.0.4->dash) (1.6.2)\n",
      "Requirement already satisfied: MarkupSafe>=2.1.1 in g:\\anaconda\\lib\\site-packages (from Werkzeug<3.1->dash) (2.1.3)\n",
      "Requirement already satisfied: zipp>=0.5 in g:\\anaconda\\lib\\site-packages (from importlib-metadata->dash) (3.17.0)\n",
      "Requirement already satisfied: charset-normalizer<4,>=2 in g:\\anaconda\\lib\\site-packages (from requests->dash) (3.3.2)\n",
      "Requirement already satisfied: idna<4,>=2.5 in g:\\anaconda\\lib\\site-packages (from requests->dash) (3.7)\n",
      "Requirement already satisfied: urllib3<3,>=1.21.1 in g:\\anaconda\\lib\\site-packages (from requests->dash) (2.2.3)\n",
      "Requirement already satisfied: certifi>=2017.4.17 in g:\\anaconda\\lib\\site-packages (from requests->dash) (2025.1.31)\n",
      "Requirement already satisfied: six>=1.7.0 in g:\\anaconda\\lib\\site-packages (from retrying->dash) (1.16.0)\n",
      "Requirement already satisfied: colorama in g:\\anaconda\\lib\\site-packages (from click>=8.1.3->Flask<3.1,>=1.0.4->dash) (0.4.6)\n",
      "Note: you may need to restart the kernel to use updated packages.\n"
     ]
    }
   ],
   "source": [
    "pip install dash plotly"
   ]
  },
  {
   "cell_type": "code",
   "execution_count": 10,
   "id": "527e0044-e6a1-4db1-b3fd-721474d82230",
   "metadata": {},
   "outputs": [
    {
     "name": "stdout",
     "output_type": "stream",
     "text": [
      "Requirement already satisfied: jupyter-dash in g:\\anaconda\\lib\\site-packages (0.4.2)\n",
      "Requirement already satisfied: dash in g:\\anaconda\\lib\\site-packages (from jupyter-dash) (3.0.0)\n",
      "Requirement already satisfied: requests in g:\\anaconda\\lib\\site-packages (from jupyter-dash) (2.32.3)\n",
      "Requirement already satisfied: flask in g:\\anaconda\\lib\\site-packages (from jupyter-dash) (3.0.3)\n",
      "Requirement already satisfied: retrying in g:\\anaconda\\lib\\site-packages (from jupyter-dash) (1.3.4)\n",
      "Requirement already satisfied: ipython in g:\\anaconda\\lib\\site-packages (from jupyter-dash) (8.27.0)\n",
      "Requirement already satisfied: ipykernel in g:\\anaconda\\lib\\site-packages (from jupyter-dash) (6.28.0)\n",
      "Requirement already satisfied: ansi2html in g:\\anaconda\\lib\\site-packages (from jupyter-dash) (1.9.2)\n",
      "Requirement already satisfied: nest-asyncio in g:\\anaconda\\lib\\site-packages (from jupyter-dash) (1.6.0)\n",
      "Requirement already satisfied: Werkzeug<3.1 in g:\\anaconda\\lib\\site-packages (from dash->jupyter-dash) (3.0.3)\n",
      "Requirement already satisfied: plotly>=5.0.0 in g:\\anaconda\\lib\\site-packages (from dash->jupyter-dash) (5.24.1)\n",
      "Requirement already satisfied: importlib-metadata in g:\\anaconda\\lib\\site-packages (from dash->jupyter-dash) (7.0.1)\n",
      "Requirement already satisfied: typing-extensions>=4.1.1 in g:\\anaconda\\lib\\site-packages (from dash->jupyter-dash) (4.11.0)\n",
      "Requirement already satisfied: setuptools in g:\\anaconda\\lib\\site-packages (from dash->jupyter-dash) (75.1.0)\n",
      "Requirement already satisfied: stringcase>=1.2.0 in g:\\anaconda\\lib\\site-packages (from dash->jupyter-dash) (1.2.0)\n",
      "Requirement already satisfied: Jinja2>=3.1.2 in g:\\anaconda\\lib\\site-packages (from flask->jupyter-dash) (3.1.4)\n",
      "Requirement already satisfied: itsdangerous>=2.1.2 in g:\\anaconda\\lib\\site-packages (from flask->jupyter-dash) (2.2.0)\n",
      "Requirement already satisfied: click>=8.1.3 in g:\\anaconda\\lib\\site-packages (from flask->jupyter-dash) (8.1.7)\n",
      "Requirement already satisfied: blinker>=1.6.2 in g:\\anaconda\\lib\\site-packages (from flask->jupyter-dash) (1.6.2)\n",
      "Requirement already satisfied: comm>=0.1.1 in g:\\anaconda\\lib\\site-packages (from ipykernel->jupyter-dash) (0.2.1)\n",
      "Requirement already satisfied: debugpy>=1.6.5 in g:\\anaconda\\lib\\site-packages (from ipykernel->jupyter-dash) (1.6.7)\n",
      "Requirement already satisfied: jupyter-client>=6.1.12 in g:\\anaconda\\lib\\site-packages (from ipykernel->jupyter-dash) (8.6.0)\n",
      "Requirement already satisfied: jupyter-core!=5.0.*,>=4.12 in g:\\anaconda\\lib\\site-packages (from ipykernel->jupyter-dash) (5.7.2)\n",
      "Requirement already satisfied: matplotlib-inline>=0.1 in g:\\anaconda\\lib\\site-packages (from ipykernel->jupyter-dash) (0.1.6)\n",
      "Requirement already satisfied: packaging in g:\\anaconda\\lib\\site-packages (from ipykernel->jupyter-dash) (24.1)\n",
      "Requirement already satisfied: psutil in g:\\anaconda\\lib\\site-packages (from ipykernel->jupyter-dash) (5.9.0)\n",
      "Requirement already satisfied: pyzmq>=24 in g:\\anaconda\\lib\\site-packages (from ipykernel->jupyter-dash) (25.1.2)\n",
      "Requirement already satisfied: tornado>=6.1 in g:\\anaconda\\lib\\site-packages (from ipykernel->jupyter-dash) (6.4.1)\n",
      "Requirement already satisfied: traitlets>=5.4.0 in g:\\anaconda\\lib\\site-packages (from ipykernel->jupyter-dash) (5.14.3)\n",
      "Requirement already satisfied: decorator in g:\\anaconda\\lib\\site-packages (from ipython->jupyter-dash) (5.1.1)\n",
      "Requirement already satisfied: jedi>=0.16 in g:\\anaconda\\lib\\site-packages (from ipython->jupyter-dash) (0.19.1)\n",
      "Requirement already satisfied: prompt-toolkit<3.1.0,>=3.0.41 in g:\\anaconda\\lib\\site-packages (from ipython->jupyter-dash) (3.0.43)\n",
      "Requirement already satisfied: pygments>=2.4.0 in g:\\anaconda\\lib\\site-packages (from ipython->jupyter-dash) (2.15.1)\n",
      "Requirement already satisfied: stack-data in g:\\anaconda\\lib\\site-packages (from ipython->jupyter-dash) (0.2.0)\n",
      "Requirement already satisfied: colorama in g:\\anaconda\\lib\\site-packages (from ipython->jupyter-dash) (0.4.6)\n",
      "Requirement already satisfied: charset-normalizer<4,>=2 in g:\\anaconda\\lib\\site-packages (from requests->jupyter-dash) (3.3.2)\n",
      "Requirement already satisfied: idna<4,>=2.5 in g:\\anaconda\\lib\\site-packages (from requests->jupyter-dash) (3.7)\n",
      "Requirement already satisfied: urllib3<3,>=1.21.1 in g:\\anaconda\\lib\\site-packages (from requests->jupyter-dash) (2.2.3)\n",
      "Requirement already satisfied: certifi>=2017.4.17 in g:\\anaconda\\lib\\site-packages (from requests->jupyter-dash) (2025.1.31)\n",
      "Requirement already satisfied: six>=1.7.0 in g:\\anaconda\\lib\\site-packages (from retrying->jupyter-dash) (1.16.0)\n",
      "Requirement already satisfied: parso<0.9.0,>=0.8.3 in g:\\anaconda\\lib\\site-packages (from jedi>=0.16->ipython->jupyter-dash) (0.8.3)\n",
      "Requirement already satisfied: MarkupSafe>=2.0 in g:\\anaconda\\lib\\site-packages (from Jinja2>=3.1.2->flask->jupyter-dash) (2.1.3)\n",
      "Requirement already satisfied: python-dateutil>=2.8.2 in g:\\anaconda\\lib\\site-packages (from jupyter-client>=6.1.12->ipykernel->jupyter-dash) (2.9.0.post0)\n",
      "Requirement already satisfied: platformdirs>=2.5 in g:\\anaconda\\lib\\site-packages (from jupyter-core!=5.0.*,>=4.12->ipykernel->jupyter-dash) (3.10.0)\n",
      "Requirement already satisfied: pywin32>=300 in g:\\anaconda\\lib\\site-packages (from jupyter-core!=5.0.*,>=4.12->ipykernel->jupyter-dash) (305.1)\n",
      "Requirement already satisfied: tenacity>=6.2.0 in g:\\anaconda\\lib\\site-packages (from plotly>=5.0.0->dash->jupyter-dash) (8.2.3)\n",
      "Requirement already satisfied: wcwidth in g:\\anaconda\\lib\\site-packages (from prompt-toolkit<3.1.0,>=3.0.41->ipython->jupyter-dash) (0.2.5)\n",
      "Requirement already satisfied: zipp>=0.5 in g:\\anaconda\\lib\\site-packages (from importlib-metadata->dash->jupyter-dash) (3.17.0)\n",
      "Requirement already satisfied: executing in g:\\anaconda\\lib\\site-packages (from stack-data->ipython->jupyter-dash) (0.8.3)\n",
      "Requirement already satisfied: asttokens in g:\\anaconda\\lib\\site-packages (from stack-data->ipython->jupyter-dash) (2.0.5)\n",
      "Requirement already satisfied: pure-eval in g:\\anaconda\\lib\\site-packages (from stack-data->ipython->jupyter-dash) (0.2.2)\n",
      "Note: you may need to restart the kernel to use updated packages.\n"
     ]
    }
   ],
   "source": [
    "pip install jupyter-dash"
   ]
  },
  {
   "cell_type": "code",
   "execution_count": 11,
   "id": "e54f1d42-d895-4e6c-acf5-bdc57821178c",
   "metadata": {},
   "outputs": [
    {
     "data": {
      "text/html": [
       "\n",
       "        <iframe\n",
       "            width=\"100%\"\n",
       "            height=\"650\"\n",
       "            src=\"http://127.0.0.1:8050/\"\n",
       "            frameborder=\"0\"\n",
       "            allowfullscreen\n",
       "            \n",
       "        ></iframe>\n",
       "        "
      ],
      "text/plain": [
       "<IPython.lib.display.IFrame at 0x210656a6240>"
      ]
     },
     "metadata": {},
     "output_type": "display_data"
    }
   ],
   "source": [
    "from dash import Dash, dcc, html, Input, Output\n",
    "import plotly.express as px \n",
    "import pandas as pd \n",
    "\n",
    "df = pd.read_csv(\"electricity_prices_2025_02_DK2.csv\")\n",
    "\n",
    "df['date'] = pd.to_datetime(df['date'])\n",
    "\n",
    "df['datetime'] = df['date'].astype(str) + ' ' + df['time_start'].str.split('T').str[1]\n",
    "df['datetime'] = pd.to_datetime(df['datetime'])\n",
    "\n",
    "df['hour'] = df['time_start'].str.split('T').str[1].str.split(':').str[0].astype(int)\n",
    "\n",
    "app = Dash(__name__)\n",
    "\n",
    "app.layout = html.Div([\n",
    "    html.H1(\"Electricity Prices Dashboard\", style={'textAlign': 'center'}),\n",
    "\n",
    "    html.Label(\"Select Date Range:\"),\n",
    "    dcc.DatePickerRange(\n",
    "        id='date-range-picker',\n",
    "        start_date=df['date'].min(),\n",
    "        end_date=df['date'].max(),\n",
    "        display_format='YYYY-MM-DD'\n",
    "    ),\n",
    "    \n",
    "    dcc.Graph(id='price-time-series'),\n",
    "    \n",
    "    dcc.Graph(id='price-histogram'),\n",
    "    \n",
    "    html.Label(\"Select Hour Range:\"),\n",
    "    dcc.RangeSlider(\n",
    "        id='hour-range-slider',\n",
    "        min=0,\n",
    "        max=23,\n",
    "        step=1,\n",
    "        marks={i: str(i) for i in range(24)},\n",
    "        value=[0, 23]\n",
    "    )\n",
    "])\n",
    "\n",
    "@app.callback(\n",
    "    [Output('price-time-series', 'figure'),\n",
    "     Output('price-histogram', 'figure')],\n",
    "    [Input('date-range-picker', 'start_date'),\n",
    "     Input('date-range-picker', 'end_date'),\n",
    "     Input('hour-range-slider', 'value')]\n",
    ")\n",
    "def update_graphs(start_date, end_date, hour_range):\n",
    "    filtered_df = df[(df['date'] >= start_date) & (df['date'] <= end_date)]\n",
    "    filtered_df = filtered_df[(filtered_df['hour'] >= hour_range[0]) & (filtered_df['hour'] <= hour_range[1])]\n",
    "\n",
    "    time_series_fig = px.line(\n",
    "        filtered_df,\n",
    "        x='datetime',\n",
    "        y='EUR_per_kWh',\n",
    "        title='Electricity Prices Over Time',\n",
    "        labels={'EUR_per_kWh': 'Price (EUR/kWh)', 'datetime': 'Date and Time'}\n",
    "    )\n",
    "    \n",
    "    histogram_fig = px.histogram(\n",
    "        filtered_df,\n",
    "        x='EUR_per_kWh',\n",
    "        title='Distribution of Electricity Prices',\n",
    "        labels={'EUR_per_kWh': 'Price (EUR/kWh)'}\n",
    "    )\n",
    "    \n",
    "    return time_series_fig, histogram_fig\n",
    "\n",
    "if __name__ == '__main__':\n",
    "    app.run(debug=True)"
   ]
  },
  {
   "cell_type": "code",
   "execution_count": null,
   "id": "d903c3d0-c776-469f-a348-0bdeaad38875",
   "metadata": {},
   "outputs": [],
   "source": []
  }
 ],
 "metadata": {
  "kernelspec": {
   "display_name": "Python 3 (ipykernel)",
   "language": "python",
   "name": "python3"
  },
  "language_info": {
   "codemirror_mode": {
    "name": "ipython",
    "version": 3
   },
   "file_extension": ".py",
   "mimetype": "text/x-python",
   "name": "python",
   "nbconvert_exporter": "python",
   "pygments_lexer": "ipython3",
   "version": "3.12.7"
  }
 },
 "nbformat": 4,
 "nbformat_minor": 5
}
